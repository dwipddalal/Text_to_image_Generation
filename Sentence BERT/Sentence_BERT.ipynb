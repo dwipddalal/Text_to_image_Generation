{
  "nbformat": 4,
  "nbformat_minor": 0,
  "metadata": {
    "colab": {
      "name": "Sentence BERT.ipynb",
      "provenance": [],
      "collapsed_sections": []
    },
    "kernelspec": {
      "name": "python3",
      "display_name": "Python 3"
    },
    "language_info": {
      "name": "python"
    }
  },
  "cells": [
    {
      "cell_type": "markdown",
      "source": [
        "# Imports"
      ],
      "metadata": {
        "id": "8PnFDGSKJUCR"
      }
    },
    {
      "cell_type": "code",
      "execution_count": null,
      "metadata": {
        "id": "_PoQqIxTVgzo"
      },
      "outputs": [],
      "source": [
        "import pickle\n",
        "import tensorflow as tf\n",
        "import matplotlib.pyplot as plt\n",
        "import collections\n",
        "import random\n",
        "import numpy as np\n",
        "import os\n",
        "\n",
        "import json\n",
        "from PIL import Image\n",
        "from sentence_transformers import SentenceTransformer"
      ]
    },
    {
      "cell_type": "markdown",
      "source": [
        "## Loading the dataset"
      ],
      "metadata": {
        "id": "58iSLimELLyD"
      }
    },
    {
      "cell_type": "code",
      "source": [
        "dataset = os.path.abspath('.') + \"/annotations/captions_train2014.json\"\n",
        "with open(dataset, 'r') as f:\n",
        "    data = json.load(f) # loaded the annotations file in annotations "
      ],
      "metadata": {
        "id": "dx_7xVgjWbRN"
      },
      "execution_count": null,
      "outputs": []
    },
    {
      "cell_type": "code",
      "source": [
        "image_path_to_caption = collections.defaultdict(list)\n",
        "for val in data['annotations']:\n",
        "  caption = \"<start> \" + val['caption'] + \" <end>\"\n",
        "  image_path =  os.path.abspath('.') + '/train2014/' + 'COCO_train2014_' + '%012d.jpg' % (val['image_id'])\n",
        "  image_path_to_caption[image_path].append(caption)"
      ],
      "metadata": {
        "id": "gcKtrsMQWild"
      },
      "execution_count": null,
      "outputs": []
    },
    {
      "cell_type": "code",
      "source": [
        "train_image_paths = list(image_path_to_caption.keys())\n",
        "random.shuffle(train_image_paths)"
      ],
      "metadata": {
        "id": "yEDe00WLWooa"
      },
      "execution_count": null,
      "outputs": []
    },
    {
      "cell_type": "markdown",
      "source": [
        "### Creating the list of captions and images."
      ],
      "metadata": {
        "id": "3WhjaxvSLu7D"
      }
    },
    {
      "cell_type": "code",
      "source": [
        "train_captions = []\n",
        "image_vector = []\n",
        "\n",
        "for image_path in train_image_paths:\n",
        "  caption_list = image_path_to_caption[image_path]\n",
        "  train_captions.extend(caption_list)\n",
        "  image_vector.extend([image_path]*len(caption_list)) # since there are 5 captions in each so there here we shall multiply it with len(caption_list)"
      ],
      "metadata": {
        "id": "3T35At_vWqJL"
      },
      "execution_count": null,
      "outputs": []
    },
    {
      "cell_type": "markdown",
      "source": [
        "### Importing the model for generating text embedding"
      ],
      "metadata": {
        "id": "iaoTeQQiKLCi"
      }
    },
    {
      "cell_type": "code",
      "source": [
        "model = SentenceTransformer('paraphrase-MiniLM-L6-v2')\n",
        "sentences = train_captions\n",
        "embeddings = model.encode(sentences)"
      ],
      "metadata": {
        "id": "ooAu7jirWuNm"
      },
      "execution_count": null,
      "outputs": []
    },
    {
      "cell_type": "markdown",
      "source": [
        "### Saving the (sentence, embedding) in zip format"
      ],
      "metadata": {
        "id": "nu7t1pkPKRnf"
      }
    },
    {
      "cell_type": "code",
      "source": [
        "filename = 'embedding_dict.pkl'\n",
        "pickle.dump(zip(sentences, embeddings), open(filename, 'wb'))"
      ],
      "metadata": {
        "id": "Vpb-AVwm12O6"
      },
      "execution_count": null,
      "outputs": []
    }
  ]
}